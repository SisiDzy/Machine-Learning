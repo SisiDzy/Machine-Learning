{
  "nbformat": 4,
  "nbformat_minor": 0,
  "metadata": {
    "colab": {
      "provenance": [],
      "authorship_tag": "ABX9TyNdHTd5Fln7jRxuBFslZ0GP",
      "include_colab_link": true
    },
    "kernelspec": {
      "name": "python3",
      "display_name": "Python 3"
    },
    "language_info": {
      "name": "python"
    }
  },
  "cells": [
    {
      "cell_type": "markdown",
      "metadata": {
        "id": "view-in-github",
        "colab_type": "text"
      },
      "source": [
        "<a href=\"https://colab.research.google.com/github/SisiDzy/Machine-Learning/blob/main/ML_Midterm.ipynb\" target=\"_parent\"><img src=\"https://colab.research.google.com/assets/colab-badge.svg\" alt=\"Open In Colab\"/></a>"
      ]
    },
    {
      "cell_type": "markdown",
      "source": [
        "1.  Import the spam dataset and print the first six rows.  "
      ],
      "metadata": {
        "id": "0SLbupu46z1U"
      }
    },
    {
      "cell_type": "code",
      "execution_count": null,
      "metadata": {
        "id": "QyyUAHnv5kvj",
        "colab": {
          "base_uri": "https://localhost:8080/",
          "height": 287
        },
        "outputId": "57e4a4b2-c88b-47bf-ca1e-225b52805862"
      },
      "outputs": [
        {
          "output_type": "execute_result",
          "data": {
            "text/plain": [
              "   word_freq_make:  word_freq_address:  word_freq_all:  word_freq_3d:  \\\n",
              "0             0.00                0.64            0.64            0.0   \n",
              "1             0.21                0.28            0.50            0.0   \n",
              "2             0.06                0.00            0.71            0.0   \n",
              "3             0.00                0.00            0.00            0.0   \n",
              "4             0.00                0.00            0.00            0.0   \n",
              "5             0.00                0.00            0.00            0.0   \n",
              "\n",
              "   word_freq_our:  word_freq_over:  word_freq_remove:  word_freq_internet:  \\\n",
              "0            0.32             0.00               0.00                 0.00   \n",
              "1            0.14             0.28               0.21                 0.07   \n",
              "2            1.23             0.19               0.19                 0.12   \n",
              "3            0.63             0.00               0.31                 0.63   \n",
              "4            0.63             0.00               0.31                 0.63   \n",
              "5            1.85             0.00               0.00                 1.85   \n",
              "\n",
              "   word_freq_order:  word_freq_mail:  ...  char_freq_;:  char_freq_(:  \\\n",
              "0              0.00             0.00  ...          0.00         0.000   \n",
              "1              0.00             0.94  ...          0.00         0.132   \n",
              "2              0.64             0.25  ...          0.01         0.143   \n",
              "3              0.31             0.63  ...          0.00         0.137   \n",
              "4              0.31             0.63  ...          0.00         0.135   \n",
              "5              0.00             0.00  ...          0.00         0.223   \n",
              "\n",
              "   char_freq_[:  char_freq_!:  char_freq_$:  char_freq_#:  \\\n",
              "0           0.0         0.778         0.000         0.000   \n",
              "1           0.0         0.372         0.180         0.048   \n",
              "2           0.0         0.276         0.184         0.010   \n",
              "3           0.0         0.137         0.000         0.000   \n",
              "4           0.0         0.135         0.000         0.000   \n",
              "5           0.0         0.000         0.000         0.000   \n",
              "\n",
              "   capital_run_length_average:  capital_run_length_longest:  \\\n",
              "0                        3.756                           61   \n",
              "1                        5.114                          101   \n",
              "2                        9.821                          485   \n",
              "3                        3.537                           40   \n",
              "4                        3.537                           40   \n",
              "5                        3.000                           15   \n",
              "\n",
              "   capital_run_length_total:  spam  \n",
              "0                        278     1  \n",
              "1                       1028     1  \n",
              "2                       2259     1  \n",
              "3                        191     1  \n",
              "4                        191     1  \n",
              "5                         54     1  \n",
              "\n",
              "[6 rows x 58 columns]"
            ],
            "text/html": [
              "\n",
              "  <div id=\"df-996d15f0-2e4b-45c2-9188-4e9b62d67414\" class=\"colab-df-container\">\n",
              "    <div>\n",
              "<style scoped>\n",
              "    .dataframe tbody tr th:only-of-type {\n",
              "        vertical-align: middle;\n",
              "    }\n",
              "\n",
              "    .dataframe tbody tr th {\n",
              "        vertical-align: top;\n",
              "    }\n",
              "\n",
              "    .dataframe thead th {\n",
              "        text-align: right;\n",
              "    }\n",
              "</style>\n",
              "<table border=\"1\" class=\"dataframe\">\n",
              "  <thead>\n",
              "    <tr style=\"text-align: right;\">\n",
              "      <th></th>\n",
              "      <th>word_freq_make:</th>\n",
              "      <th>word_freq_address:</th>\n",
              "      <th>word_freq_all:</th>\n",
              "      <th>word_freq_3d:</th>\n",
              "      <th>word_freq_our:</th>\n",
              "      <th>word_freq_over:</th>\n",
              "      <th>word_freq_remove:</th>\n",
              "      <th>word_freq_internet:</th>\n",
              "      <th>word_freq_order:</th>\n",
              "      <th>word_freq_mail:</th>\n",
              "      <th>...</th>\n",
              "      <th>char_freq_;:</th>\n",
              "      <th>char_freq_(:</th>\n",
              "      <th>char_freq_[:</th>\n",
              "      <th>char_freq_!:</th>\n",
              "      <th>char_freq_$:</th>\n",
              "      <th>char_freq_#:</th>\n",
              "      <th>capital_run_length_average:</th>\n",
              "      <th>capital_run_length_longest:</th>\n",
              "      <th>capital_run_length_total:</th>\n",
              "      <th>spam</th>\n",
              "    </tr>\n",
              "  </thead>\n",
              "  <tbody>\n",
              "    <tr>\n",
              "      <th>0</th>\n",
              "      <td>0.00</td>\n",
              "      <td>0.64</td>\n",
              "      <td>0.64</td>\n",
              "      <td>0.0</td>\n",
              "      <td>0.32</td>\n",
              "      <td>0.00</td>\n",
              "      <td>0.00</td>\n",
              "      <td>0.00</td>\n",
              "      <td>0.00</td>\n",
              "      <td>0.00</td>\n",
              "      <td>...</td>\n",
              "      <td>0.00</td>\n",
              "      <td>0.000</td>\n",
              "      <td>0.0</td>\n",
              "      <td>0.778</td>\n",
              "      <td>0.000</td>\n",
              "      <td>0.000</td>\n",
              "      <td>3.756</td>\n",
              "      <td>61</td>\n",
              "      <td>278</td>\n",
              "      <td>1</td>\n",
              "    </tr>\n",
              "    <tr>\n",
              "      <th>1</th>\n",
              "      <td>0.21</td>\n",
              "      <td>0.28</td>\n",
              "      <td>0.50</td>\n",
              "      <td>0.0</td>\n",
              "      <td>0.14</td>\n",
              "      <td>0.28</td>\n",
              "      <td>0.21</td>\n",
              "      <td>0.07</td>\n",
              "      <td>0.00</td>\n",
              "      <td>0.94</td>\n",
              "      <td>...</td>\n",
              "      <td>0.00</td>\n",
              "      <td>0.132</td>\n",
              "      <td>0.0</td>\n",
              "      <td>0.372</td>\n",
              "      <td>0.180</td>\n",
              "      <td>0.048</td>\n",
              "      <td>5.114</td>\n",
              "      <td>101</td>\n",
              "      <td>1028</td>\n",
              "      <td>1</td>\n",
              "    </tr>\n",
              "    <tr>\n",
              "      <th>2</th>\n",
              "      <td>0.06</td>\n",
              "      <td>0.00</td>\n",
              "      <td>0.71</td>\n",
              "      <td>0.0</td>\n",
              "      <td>1.23</td>\n",
              "      <td>0.19</td>\n",
              "      <td>0.19</td>\n",
              "      <td>0.12</td>\n",
              "      <td>0.64</td>\n",
              "      <td>0.25</td>\n",
              "      <td>...</td>\n",
              "      <td>0.01</td>\n",
              "      <td>0.143</td>\n",
              "      <td>0.0</td>\n",
              "      <td>0.276</td>\n",
              "      <td>0.184</td>\n",
              "      <td>0.010</td>\n",
              "      <td>9.821</td>\n",
              "      <td>485</td>\n",
              "      <td>2259</td>\n",
              "      <td>1</td>\n",
              "    </tr>\n",
              "    <tr>\n",
              "      <th>3</th>\n",
              "      <td>0.00</td>\n",
              "      <td>0.00</td>\n",
              "      <td>0.00</td>\n",
              "      <td>0.0</td>\n",
              "      <td>0.63</td>\n",
              "      <td>0.00</td>\n",
              "      <td>0.31</td>\n",
              "      <td>0.63</td>\n",
              "      <td>0.31</td>\n",
              "      <td>0.63</td>\n",
              "      <td>...</td>\n",
              "      <td>0.00</td>\n",
              "      <td>0.137</td>\n",
              "      <td>0.0</td>\n",
              "      <td>0.137</td>\n",
              "      <td>0.000</td>\n",
              "      <td>0.000</td>\n",
              "      <td>3.537</td>\n",
              "      <td>40</td>\n",
              "      <td>191</td>\n",
              "      <td>1</td>\n",
              "    </tr>\n",
              "    <tr>\n",
              "      <th>4</th>\n",
              "      <td>0.00</td>\n",
              "      <td>0.00</td>\n",
              "      <td>0.00</td>\n",
              "      <td>0.0</td>\n",
              "      <td>0.63</td>\n",
              "      <td>0.00</td>\n",
              "      <td>0.31</td>\n",
              "      <td>0.63</td>\n",
              "      <td>0.31</td>\n",
              "      <td>0.63</td>\n",
              "      <td>...</td>\n",
              "      <td>0.00</td>\n",
              "      <td>0.135</td>\n",
              "      <td>0.0</td>\n",
              "      <td>0.135</td>\n",
              "      <td>0.000</td>\n",
              "      <td>0.000</td>\n",
              "      <td>3.537</td>\n",
              "      <td>40</td>\n",
              "      <td>191</td>\n",
              "      <td>1</td>\n",
              "    </tr>\n",
              "    <tr>\n",
              "      <th>5</th>\n",
              "      <td>0.00</td>\n",
              "      <td>0.00</td>\n",
              "      <td>0.00</td>\n",
              "      <td>0.0</td>\n",
              "      <td>1.85</td>\n",
              "      <td>0.00</td>\n",
              "      <td>0.00</td>\n",
              "      <td>1.85</td>\n",
              "      <td>0.00</td>\n",
              "      <td>0.00</td>\n",
              "      <td>...</td>\n",
              "      <td>0.00</td>\n",
              "      <td>0.223</td>\n",
              "      <td>0.0</td>\n",
              "      <td>0.000</td>\n",
              "      <td>0.000</td>\n",
              "      <td>0.000</td>\n",
              "      <td>3.000</td>\n",
              "      <td>15</td>\n",
              "      <td>54</td>\n",
              "      <td>1</td>\n",
              "    </tr>\n",
              "  </tbody>\n",
              "</table>\n",
              "<p>6 rows × 58 columns</p>\n",
              "</div>\n",
              "    <div class=\"colab-df-buttons\">\n",
              "\n",
              "  <div class=\"colab-df-container\">\n",
              "    <button class=\"colab-df-convert\" onclick=\"convertToInteractive('df-996d15f0-2e4b-45c2-9188-4e9b62d67414')\"\n",
              "            title=\"Convert this dataframe to an interactive table.\"\n",
              "            style=\"display:none;\">\n",
              "\n",
              "  <svg xmlns=\"http://www.w3.org/2000/svg\" height=\"24px\" viewBox=\"0 -960 960 960\">\n",
              "    <path d=\"M120-120v-720h720v720H120Zm60-500h600v-160H180v160Zm220 220h160v-160H400v160Zm0 220h160v-160H400v160ZM180-400h160v-160H180v160Zm440 0h160v-160H620v160ZM180-180h160v-160H180v160Zm440 0h160v-160H620v160Z\"/>\n",
              "  </svg>\n",
              "    </button>\n",
              "\n",
              "  <style>\n",
              "    .colab-df-container {\n",
              "      display:flex;\n",
              "      gap: 12px;\n",
              "    }\n",
              "\n",
              "    .colab-df-convert {\n",
              "      background-color: #E8F0FE;\n",
              "      border: none;\n",
              "      border-radius: 50%;\n",
              "      cursor: pointer;\n",
              "      display: none;\n",
              "      fill: #1967D2;\n",
              "      height: 32px;\n",
              "      padding: 0 0 0 0;\n",
              "      width: 32px;\n",
              "    }\n",
              "\n",
              "    .colab-df-convert:hover {\n",
              "      background-color: #E2EBFA;\n",
              "      box-shadow: 0px 1px 2px rgba(60, 64, 67, 0.3), 0px 1px 3px 1px rgba(60, 64, 67, 0.15);\n",
              "      fill: #174EA6;\n",
              "    }\n",
              "\n",
              "    .colab-df-buttons div {\n",
              "      margin-bottom: 4px;\n",
              "    }\n",
              "\n",
              "    [theme=dark] .colab-df-convert {\n",
              "      background-color: #3B4455;\n",
              "      fill: #D2E3FC;\n",
              "    }\n",
              "\n",
              "    [theme=dark] .colab-df-convert:hover {\n",
              "      background-color: #434B5C;\n",
              "      box-shadow: 0px 1px 3px 1px rgba(0, 0, 0, 0.15);\n",
              "      filter: drop-shadow(0px 1px 2px rgba(0, 0, 0, 0.3));\n",
              "      fill: #FFFFFF;\n",
              "    }\n",
              "  </style>\n",
              "\n",
              "    <script>\n",
              "      const buttonEl =\n",
              "        document.querySelector('#df-996d15f0-2e4b-45c2-9188-4e9b62d67414 button.colab-df-convert');\n",
              "      buttonEl.style.display =\n",
              "        google.colab.kernel.accessAllowed ? 'block' : 'none';\n",
              "\n",
              "      async function convertToInteractive(key) {\n",
              "        const element = document.querySelector('#df-996d15f0-2e4b-45c2-9188-4e9b62d67414');\n",
              "        const dataTable =\n",
              "          await google.colab.kernel.invokeFunction('convertToInteractive',\n",
              "                                                    [key], {});\n",
              "        if (!dataTable) return;\n",
              "\n",
              "        const docLinkHtml = 'Like what you see? Visit the ' +\n",
              "          '<a target=\"_blank\" href=https://colab.research.google.com/notebooks/data_table.ipynb>data table notebook</a>'\n",
              "          + ' to learn more about interactive tables.';\n",
              "        element.innerHTML = '';\n",
              "        dataTable['output_type'] = 'display_data';\n",
              "        await google.colab.output.renderOutput(dataTable, element);\n",
              "        const docLink = document.createElement('div');\n",
              "        docLink.innerHTML = docLinkHtml;\n",
              "        element.appendChild(docLink);\n",
              "      }\n",
              "    </script>\n",
              "  </div>\n",
              "\n",
              "\n",
              "<div id=\"df-f606aa46-874b-424e-b1f5-a795803015f1\">\n",
              "  <button class=\"colab-df-quickchart\" onclick=\"quickchart('df-f606aa46-874b-424e-b1f5-a795803015f1')\"\n",
              "            title=\"Suggest charts.\"\n",
              "            style=\"display:none;\">\n",
              "\n",
              "<svg xmlns=\"http://www.w3.org/2000/svg\" height=\"24px\"viewBox=\"0 0 24 24\"\n",
              "     width=\"24px\">\n",
              "    <g>\n",
              "        <path d=\"M19 3H5c-1.1 0-2 .9-2 2v14c0 1.1.9 2 2 2h14c1.1 0 2-.9 2-2V5c0-1.1-.9-2-2-2zM9 17H7v-7h2v7zm4 0h-2V7h2v10zm4 0h-2v-4h2v4z\"/>\n",
              "    </g>\n",
              "</svg>\n",
              "  </button>\n",
              "\n",
              "<style>\n",
              "  .colab-df-quickchart {\n",
              "      --bg-color: #E8F0FE;\n",
              "      --fill-color: #1967D2;\n",
              "      --hover-bg-color: #E2EBFA;\n",
              "      --hover-fill-color: #174EA6;\n",
              "      --disabled-fill-color: #AAA;\n",
              "      --disabled-bg-color: #DDD;\n",
              "  }\n",
              "\n",
              "  [theme=dark] .colab-df-quickchart {\n",
              "      --bg-color: #3B4455;\n",
              "      --fill-color: #D2E3FC;\n",
              "      --hover-bg-color: #434B5C;\n",
              "      --hover-fill-color: #FFFFFF;\n",
              "      --disabled-bg-color: #3B4455;\n",
              "      --disabled-fill-color: #666;\n",
              "  }\n",
              "\n",
              "  .colab-df-quickchart {\n",
              "    background-color: var(--bg-color);\n",
              "    border: none;\n",
              "    border-radius: 50%;\n",
              "    cursor: pointer;\n",
              "    display: none;\n",
              "    fill: var(--fill-color);\n",
              "    height: 32px;\n",
              "    padding: 0;\n",
              "    width: 32px;\n",
              "  }\n",
              "\n",
              "  .colab-df-quickchart:hover {\n",
              "    background-color: var(--hover-bg-color);\n",
              "    box-shadow: 0 1px 2px rgba(60, 64, 67, 0.3), 0 1px 3px 1px rgba(60, 64, 67, 0.15);\n",
              "    fill: var(--button-hover-fill-color);\n",
              "  }\n",
              "\n",
              "  .colab-df-quickchart-complete:disabled,\n",
              "  .colab-df-quickchart-complete:disabled:hover {\n",
              "    background-color: var(--disabled-bg-color);\n",
              "    fill: var(--disabled-fill-color);\n",
              "    box-shadow: none;\n",
              "  }\n",
              "\n",
              "  .colab-df-spinner {\n",
              "    border: 2px solid var(--fill-color);\n",
              "    border-color: transparent;\n",
              "    border-bottom-color: var(--fill-color);\n",
              "    animation:\n",
              "      spin 1s steps(1) infinite;\n",
              "  }\n",
              "\n",
              "  @keyframes spin {\n",
              "    0% {\n",
              "      border-color: transparent;\n",
              "      border-bottom-color: var(--fill-color);\n",
              "      border-left-color: var(--fill-color);\n",
              "    }\n",
              "    20% {\n",
              "      border-color: transparent;\n",
              "      border-left-color: var(--fill-color);\n",
              "      border-top-color: var(--fill-color);\n",
              "    }\n",
              "    30% {\n",
              "      border-color: transparent;\n",
              "      border-left-color: var(--fill-color);\n",
              "      border-top-color: var(--fill-color);\n",
              "      border-right-color: var(--fill-color);\n",
              "    }\n",
              "    40% {\n",
              "      border-color: transparent;\n",
              "      border-right-color: var(--fill-color);\n",
              "      border-top-color: var(--fill-color);\n",
              "    }\n",
              "    60% {\n",
              "      border-color: transparent;\n",
              "      border-right-color: var(--fill-color);\n",
              "    }\n",
              "    80% {\n",
              "      border-color: transparent;\n",
              "      border-right-color: var(--fill-color);\n",
              "      border-bottom-color: var(--fill-color);\n",
              "    }\n",
              "    90% {\n",
              "      border-color: transparent;\n",
              "      border-bottom-color: var(--fill-color);\n",
              "    }\n",
              "  }\n",
              "</style>\n",
              "\n",
              "  <script>\n",
              "    async function quickchart(key) {\n",
              "      const quickchartButtonEl =\n",
              "        document.querySelector('#' + key + ' button');\n",
              "      quickchartButtonEl.disabled = true;  // To prevent multiple clicks.\n",
              "      quickchartButtonEl.classList.add('colab-df-spinner');\n",
              "      try {\n",
              "        const charts = await google.colab.kernel.invokeFunction(\n",
              "            'suggestCharts', [key], {});\n",
              "      } catch (error) {\n",
              "        console.error('Error during call to suggestCharts:', error);\n",
              "      }\n",
              "      quickchartButtonEl.classList.remove('colab-df-spinner');\n",
              "      quickchartButtonEl.classList.add('colab-df-quickchart-complete');\n",
              "    }\n",
              "    (() => {\n",
              "      let quickchartButtonEl =\n",
              "        document.querySelector('#df-f606aa46-874b-424e-b1f5-a795803015f1 button');\n",
              "      quickchartButtonEl.style.display =\n",
              "        google.colab.kernel.accessAllowed ? 'block' : 'none';\n",
              "    })();\n",
              "  </script>\n",
              "</div>\n",
              "    </div>\n",
              "  </div>\n"
            ]
          },
          "metadata": {},
          "execution_count": 31
        }
      ],
      "source": [
        "from __future__ import division\n",
        "import pandas as pd\n",
        "import numpy as np\n",
        "import matplotlib.pyplot as plt\n",
        "import seaborn as sns\n",
        "import statsmodels.api as sm\n",
        "import statsmodels.formula.api as smf\n",
        "\n",
        "d = pd.read_csv(\"spam_dataset.csv\")\n",
        "d.head(6)"
      ]
    },
    {
      "cell_type": "markdown",
      "source": [
        "2.  Read through the documentation of the original dataset here:\n",
        "\n",
        "   http://archive.ics.uci.edu/ml/machine-learning-databases/spambase/spambase.names\n",
        "\n",
        "   The dependent variable is \"spam\" where one indicates that an email is spam and zero otherwise.  Which three variables in the dataset do you think will be important predictors in a model of spam?  Why?"
      ],
      "metadata": {
        "id": "HaZ2n4wT7Fvg"
      }
    },
    {
      "cell_type": "markdown",
      "source": [
        "I think \"word_freq_free:\", \"char_freq_!:\", and \"capital_run_length_total:\" will be important predictors in a model of spam. \"word_freq_free:\", as the word frequency of \"free\", is important because \"free\" is an appealing word for potential customers, and spam emails may use the word frequently to entice recipients with promises of free products, services, or offers. \"char_freq_!:\", as the character frequency of \"!\", is essential to use since the character is just used to grab people's attention, which is a good choice for spam emails. Legitimate emails, in comparison, are less likely to use \"!\". \"capital_run_length_total:\", as the total number of capital letters, could also be a useful predictor because spam emails may use excessive capitalization to create a sense of urgency or emphasis."
      ],
      "metadata": {
        "id": "dQJFMxuS8w7w"
      }
    },
    {
      "cell_type": "markdown",
      "source": [
        "3.  Visualize the univariate distribution of each of the variables in the previous question.  "
      ],
      "metadata": {
        "id": "EUgjsoyp8C28"
      }
    },
    {
      "cell_type": "code",
      "source": [
        "plt.figure(figsize=(15, 5))\n",
        "for i, var in enumerate([\"word_freq_free:\"] + [\"char_freq_!:\"] + [\"capital_run_length_total:\"]):\n",
        "    plt.subplot(1, 3, i+1)\n",
        "    sns.histplot(d[var], kde=True, bins=70)\n",
        "    plt.title(f\"Distribution of {var}\")\n",
        "plt.tight_layout()\n",
        "plt.show()"
      ],
      "metadata": {
        "id": "D63sdjStqdLB",
        "colab": {
          "base_uri": "https://localhost:8080/",
          "height": 373
        },
        "outputId": "f0111678-28ca-4c6e-a6bb-705153dca95c"
      },
      "execution_count": null,
      "outputs": [
        {
          "output_type": "display_data",
          "data": {
            "text/plain": [
              "<Figure size 1500x500 with 3 Axes>"
            ],
            "image/png": "[encoded data removed]"
          },
          "metadata": {}
        }
      ]
    },
    {
      "cell_type": "markdown",
      "source": [
        "4. Name each of the supervised learning models that we have learned thus far that are used to predict dependent variables like \"spam\".   "
      ],
      "metadata": {
        "id": "c46aYnwz8EgQ"
      }
    },
    {
      "cell_type": "markdown",
      "source": [
        "1. Logistic Regression\n",
        "2. KNN for Classification\n",
        "3. Support Vector Machines (SVMs)\n",
        "4. Random Forests\n",
        "5. Decision Trees\n",
        "6. Gradient Boosting\n",
        "7. Bagging"
      ],
      "metadata": {
        "id": "9q0mtYry8tQM"
      }
    },
    {
      "cell_type": "markdown",
      "source": [
        "5. Describe the importance of training and test data.  Why do we separate data into these subsets?"
      ],
      "metadata": {
        "id": "RFBhh5oX8F7M"
      }
    },
    {
      "cell_type": "markdown",
      "source": [
        "The training data is used to educate models by enabling them to learn patterns and relationships within the data. In contrast, the test data is essential for evaluating a model's performance, preventing overfitting, and ensuring that the model generalizes well to new, unseen data. By keeping these subsets distinct, we can tune models and select the best-performing parameters, ensuring robust and unbiased models."
      ],
      "metadata": {
        "id": "KcdmP8Ev8pBG"
      }
    },
    {
      "cell_type": "markdown",
      "source": [
        "6. What is k-fold cross validation and what do we use it for?"
      ],
      "metadata": {
        "id": "tTEbnEAa8HRP"
      }
    },
    {
      "cell_type": "markdown",
      "source": [
        "K-fold cross-validation is a technique for robust model evaluation. It involves splitting the dataset into k subsets, using k-1 subset for testing and the remaining subsets for training, and then using k-2 subset for testing and the remaing ing subsets for training, and so on. This approach provides a comprehensive evaluation by averaging performance metrics across iterations, making it more reliable in building models that generalize well. It is essential for hyperparameter tuning and is particularly valuable when working with limited data."
      ],
      "metadata": {
        "id": "c2gFx6Q88k5n"
      }
    },
    {
      "cell_type": "markdown",
      "source": [
        "7. How is k-fold cross validation different from stratified k-fold cross validation?"
      ],
      "metadata": {
        "id": "dWtklhYC8I8M"
      }
    },
    {
      "cell_type": "markdown",
      "source": [
        "In K-fold cross-validation, the data is randomly partitioned into k subsets, which can lead to imbalances in class distribution among the folds. Stratified K-fold, on the other hand, makes sure that each fold maintains the same class distribution as the original dataset, and provides a more reliable assessment of model performance when dealing with imbalanced datasets where one class is significantly smaller than the others."
      ],
      "metadata": {
        "id": "_sw9XQQo8me5"
      }
    },
    {
      "cell_type": "markdown",
      "source": [
        "8. Choose one model from question four.  Split the data into training and test subsets.  Build a model with the three variables in the dataset that you think will be good predictors of \"spam\".  Describe why you chose any particular parameters for your model (e.g.- if you used KNN how did you decide to choose a specific value for k).  Run the model and evaluate prediction error in two ways: A) On test data directly and B) using k-fold cross-validation.  "
      ],
      "metadata": {
        "id": "Xty85ruX8Km7"
      }
    },
    {
      "cell_type": "code",
      "source": [
        "from sklearn.model_selection import train_test_split, cross_val_score, KFold\n",
        "from sklearn.linear_model import LogisticRegression\n",
        "from sklearn.model_selection import GridSearchCV\n",
        "\n",
        "X = d[[\"word_freq_free:\", \"char_freq_!:\", \"capital_run_length_total:\"]]\n",
        "y = d[\"spam\"]\n",
        "\n",
        "X_train, X_test, y_train, y_test = train_test_split(X, y, random_state=42)\n",
        "\n",
        "param_grid = {'C': [0.001, 0.01, 0.1, 1, 10, 100]}\n",
        "\n",
        "logreg = LogisticRegression(max_iter=10000)\n",
        "\n",
        "grid_search = GridSearchCV(logreg, param_grid, cv=5)\n",
        "grid_search.fit(X_train, y_train)\n",
        "\n",
        "best_params = grid_search.best_params_\n",
        "print(f\"Best parameter(s): {best_params}\")\n",
        "\n",
        "best_logreg = LogisticRegression(C=best_params['C'], max_iter=10000)\n",
        "best_logreg.fit(X_train, y_train)\n",
        "\n",
        "print(\"Training set score: {:.3f}\".format(best_logreg.score(X_train, y_train)))\n",
        "print(\"Test set score: {:.3f}\".format(best_logreg.score(X_test, y_test)))\n",
        "\n",
        "kfold = KFold(n_splits=5)\n",
        "print(\"Cross validation score: {:.3f}\".format(cross_val_score(best_logreg, X_train, y_train, cv=kfold).mean()))"
      ],
      "metadata": {
        "id": "CdW1bx6E8MFK",
        "colab": {
          "base_uri": "https://localhost:8080/"
        },
        "outputId": "fb24ca15-71ee-4917-abb8-04bb57663808"
      },
      "execution_count": null,
      "outputs": [
        {
          "output_type": "stream",
          "name": "stdout",
          "text": [
            "Best parameter(s): {'C': 100}\n",
            "Training set score: 0.778\n",
            "Test set score: 0.769\n",
            "Cross validation score: 0.776\n"
          ]
        }
      ]
    },
    {
      "cell_type": "markdown",
      "source": [
        "I chose C=100 since it was selected as the best parameter by GridSearchCV. I chose the default penalty (l2) to help prevent overfitting. And I set max_iter=10000 to prevent overwhelming warnings and also for best coefficients."
      ],
      "metadata": {
        "id": "uCAvwnGOli2A"
      }
    },
    {
      "cell_type": "markdown",
      "source": [
        "9. Choose a second model from question four.  Using the same three variables in the dataset that you think will be good predictors of \"spam\".  Describe why you chose any particular parameters for your model (e.g.- if you used KNN how did you decide to choose a specific value for k).  Run the model and evaluate prediction error in two ways: A) On test data directly and B) using k-fold cross-validation.  Did this model predict test data better than your previous model?"
      ],
      "metadata": {
        "id": "oxCzWYD58MLu"
      }
    },
    {
      "cell_type": "code",
      "source": [
        "from sklearn.ensemble import RandomForestClassifier\n",
        "\n",
        "forest = RandomForestClassifier(random_state=2)\n",
        "\n",
        "param_grid = {'n_estimators': [100, 200, 300, 500, 800, 1000]}\n",
        "\n",
        "grid_search = GridSearchCV(forest, param_grid, cv=5)\n",
        "grid_search.fit(X_train, y_train)\n",
        "\n",
        "best_params = grid_search.best_params_\n",
        "print(f\"Best parameter(s): {best_params}\")\n",
        "\n",
        "best_forest = RandomForestClassifier(n_estimators=best_params['n_estimators'])\n",
        "best_forest.fit(X_train, y_train)\n",
        "\n",
        "print(\"Training set score: {:.3f}\".format(best_forest.score(X_train, y_train)))\n",
        "print(\"Test set score: {:.3f}\".format(best_forest.score(X_test, y_test)))\n",
        "print(\"Cross validation score: {:.3f}\".format(cross_val_score(best_forest, X_train, y_train, cv=kfold).mean()))"
      ],
      "metadata": {
        "id": "mtMsvgbR8Pll",
        "colab": {
          "base_uri": "https://localhost:8080/"
        },
        "outputId": "a1bdfcac-d5f6-4c8d-9bf3-b579ac363a3c"
      },
      "execution_count": null,
      "outputs": [
        {
          "output_type": "stream",
          "name": "stdout",
          "text": [
            "Best parameter(s): {'n_estimators': 800}\n",
            "Training set score: 0.963\n",
            "Test set score: 0.859\n",
            "Cross validation score: 0.859\n"
          ]
        }
      ]
    },
    {
      "cell_type": "markdown",
      "source": [
        "I chose n_estimators=800 since Random Forests perform better when n_estimators is greater and GridSearchCV selected it as the best parameter. Here, Random Forests predicts test data better than Logistic Regression, with a test set score of 0.859."
      ],
      "metadata": {
        "id": "o6BWehWYCRTg"
      }
    },
    {
      "cell_type": "markdown",
      "source": [
        "10. Choose a third model from question four.  Using the same three variables in the dataset that you think will be good predictors of \"spam\".  Describe why you chose any particular parameters for your model (e.g.- if you used KNN how did you decide to choose a specific value for k). Run the model and evaluate prediction error in two ways: A) On test data directly and B) using k-fold cross-validation.  Did this model predict test data better than your previous models?"
      ],
      "metadata": {
        "id": "MLwjaFTg8Pri"
      }
    },
    {
      "cell_type": "code",
      "source": [
        "from sklearn.neighbors import KNeighborsClassifier\n",
        "from sklearn.preprocessing import StandardScaler\n",
        "\n",
        "scaler = StandardScaler()\n",
        "X_train_scaled = scaler.fit_transform(X_train)\n",
        "X_test_scaled = scaler.transform(X_test)\n",
        "\n",
        "knc = KNeighborsClassifier()\n",
        "\n",
        "param_grid = {'n_neighbors': [1,3,5,7,9,10,11,13] }\n",
        "\n",
        "grid_search = GridSearchCV(KNeighborsClassifier(), param_grid=param_grid, cv=5)\n",
        "grid_search.fit(X_train_scaled, y_train)\n",
        "\n",
        "best_params = grid_search.best_params_\n",
        "print(f\"Best parameter(s): {best_params}\")\n",
        "\n",
        "best_knc = KNeighborsClassifier(n_neighbors=best_params['n_neighbors'])\n",
        "best_knc.fit(X_train_scaled, y_train)\n",
        "\n",
        "print(\"Training set score: {:.3f}\".format(best_knc.score(X_train_scaled, y_train)))\n",
        "print(\"Test set score: {:.3f}\".format(best_knc.score(X_test_scaled, y_test)))\n",
        "print(\"Cross validation score: {:.3f}\".format(cross_val_score(best_knc, X_train_scaled, y_train, cv=kfold).mean()))"
      ],
      "metadata": {
        "id": "IovxFC6s8RJA",
        "colab": {
          "base_uri": "https://localhost:8080/"
        },
        "outputId": "e24580fb-0533-480b-ffe7-8baef7cda71d"
      },
      "execution_count": null,
      "outputs": [
        {
          "output_type": "stream",
          "name": "stdout",
          "text": [
            "Best parameter(s): {'n_neighbors': 3}\n",
            "Training set score: 0.894\n",
            "Test set score: 0.840\n",
            "Cross validation score: 0.843\n"
          ]
        }
      ]
    },
    {
      "cell_type": "markdown",
      "source": [
        "I chose n_neighbors=3 since GridSearchCV selected it as the best parameter. Here, I did scaling because through previous assignments, I found scaling is crucial for KNN to make a better prediction. KNN for Classification after scaling has a better result than Logistic Regression but has a lower score than Random Forests."
      ],
      "metadata": {
        "id": "YB_q6-h2aGaP"
      }
    },
    {
      "cell_type": "markdown",
      "source": [
        "11. Choose a fourth model from question four.  Using the same three variables in the dataset that you think will be good predictors of \"spam\".  Describe why you chose any particular parameters for your model (e.g.- if you used KNN how did you decide to choose a specific value for k). Run the model and evaluate prediction error in two ways: A) On test data directly and B) using k-fold cross-validation. Evaluate prediction error, did this model predict better than your previous models?"
      ],
      "metadata": {
        "id": "O-S-Lihh8ROg"
      }
    },
    {
      "cell_type": "code",
      "source": [
        "from sklearn.tree import DecisionTreeClassifier\n",
        "from sklearn.ensemble import BaggingClassifier\n",
        "\n",
        "estimator = DecisionTreeClassifier()\n",
        "bagging = BaggingClassifier(estimator=estimator, random_state=2)\n",
        "\n",
        "param_grid = {'n_estimators': [100, 200, 300, 500, 800, 1000]}\n",
        "\n",
        "grid_search = GridSearchCV(BaggingClassifier(), param_grid=param_grid, cv=5)\n",
        "grid_search.fit(X_train, y_train)\n",
        "\n",
        "best_params = grid_search.best_params_\n",
        "print(f\"Best parameter(s): {best_params}\")\n",
        "\n",
        "best_bag = BaggingClassifier(n_estimators=best_params['n_estimators'])\n",
        "best_bag.fit(X_train, y_train)\n",
        "\n",
        "print(\"Training set score: {:.3f}\".format(best_bag.score(X_train, y_train)))\n",
        "print(\"Test set score: {:.3f}\".format(best_bag.score(X_test, y_test)))\n",
        "print(\"Cross validation score: {:.3f}\".format(cross_val_score(best_bag, X_train, y_train, cv=kfold).mean()))"
      ],
      "metadata": {
        "id": "R0jh3Ws08Ut_",
        "colab": {
          "base_uri": "https://localhost:8080/"
        },
        "outputId": "94a50f28-9912-46ea-d392-09e1631c039e"
      },
      "execution_count": null,
      "outputs": [
        {
          "output_type": "stream",
          "name": "stdout",
          "text": [
            "Best parameter(s): {'n_estimators': 100}\n",
            "Training set score: 0.963\n",
            "Test set score: 0.854\n",
            "Cross validation score: 0.853\n"
          ]
        }
      ]
    },
    {
      "cell_type": "markdown",
      "source": [
        "I chose n_estimators=100 since GridSearchCV selected it as the best parameter. Bagging predicts test data better than all other models except for Random Forests."
      ],
      "metadata": {
        "id": "aN7JZTfACng2"
      }
    },
    {
      "cell_type": "markdown",
      "source": [
        "12. Now rerun your best model from questions 8 through 11, but this time add three new variables to the model that you think will increase prediction accuracy.   Did this model predict test data better than your previous models?  "
      ],
      "metadata": {
        "id": "KHwd9gKk8Svs"
      }
    },
    {
      "cell_type": "code",
      "source": [
        "X = d[[\"word_freq_free:\", \"char_freq_!:\", \"capital_run_length_total:\", \"word_freq_remove:\", \"char_freq_$:\", \"capital_run_length_average:\"]]\n",
        "y = d[\"spam\"]\n",
        "\n",
        "X_train, X_test, y_train, y_test = train_test_split(X, y, random_state=42)\n",
        "\n",
        "forest = RandomForestClassifier(random_state=2)\n",
        "\n",
        "param_grid = {'n_estimators': [100, 200, 300, 500, 800, 1000]}\n",
        "\n",
        "grid_search = GridSearchCV(forest, param_grid, cv=5)\n",
        "grid_search.fit(X_train, y_train)\n",
        "\n",
        "best_params = grid_search.best_params_\n",
        "print(f\"Best parameter(s): {best_params}\")\n",
        "\n",
        "best_forest = RandomForestClassifier(n_estimators=best_params['n_estimators'])\n",
        "best_forest.fit(X_train, y_train)\n",
        "\n",
        "print(\"Training set score: {:.3f}\".format(best_forest.score(X_train, y_train)))\n",
        "print(\"Test set score: {:.3f}\".format(best_forest.score(X_test, y_test)))\n",
        "print(\"Cross validation score: {:.3f}\".format(cross_val_score(best_forest, X_train, y_train, cv=kfold).mean()))"
      ],
      "metadata": {
        "id": "geZ0juW_NV-Q",
        "colab": {
          "base_uri": "https://localhost:8080/"
        },
        "outputId": "f3b79899-5568-4925-9d2e-2de21d043ad2"
      },
      "execution_count": null,
      "outputs": [
        {
          "output_type": "stream",
          "name": "stdout",
          "text": [
            "Best parameter(s): {'n_estimators': 500}\n",
            "Training set score: 0.992\n",
            "Test set score: 0.918\n",
            "Cross validation score: 0.915\n"
          ]
        }
      ]
    },
    {
      "cell_type": "markdown",
      "source": [
        "This Random Forests model with six variables predicts test data better than all previous models, with a test set score as high as 0.918."
      ],
      "metadata": {
        "id": "oWgodOjCC9UU"
      }
    },
    {
      "cell_type": "markdown",
      "source": [
        "13. Rerun all your other models with this final set of six variables, evaluate prediction error, and choose a final model.  Why did you select this model among all of the models that you ran?"
      ],
      "metadata": {
        "id": "_CI1432C8UzL"
      }
    },
    {
      "cell_type": "code",
      "source": [
        "param_grid = {'C': [0.001, 0.01, 0.1, 1, 10, 100]}\n",
        "\n",
        "logreg = LogisticRegression(max_iter=10000)\n",
        "\n",
        "grid_search = GridSearchCV(logreg, param_grid, cv=5)\n",
        "grid_search.fit(X_train, y_train)\n",
        "\n",
        "best_params = grid_search.best_params_\n",
        "print(f\"Best parameter(s): {best_params}\")\n",
        "\n",
        "best_logreg = LogisticRegression(C=best_params['C'], max_iter=10000)\n",
        "best_logreg.fit(X_train, y_train)\n",
        "\n",
        "print(\"Training set score: {:.3f}\".format(best_logreg.score(X_train, y_train)))\n",
        "print(\"Test set score: {:.3f}\".format(best_logreg.score(X_test, y_test)))\n",
        "\n",
        "kfold = KFold(n_splits=5)\n",
        "print(\"Cross validation score: {:.3f}\".format(cross_val_score(best_logreg, X_train, y_train, cv=kfold).mean()))"
      ],
      "metadata": {
        "colab": {
          "base_uri": "https://localhost:8080/"
        },
        "id": "RzTEJ_Lsiga7",
        "outputId": "347aa6cf-22b9-41c2-adfd-05200a7a79c0"
      },
      "execution_count": null,
      "outputs": [
        {
          "output_type": "stream",
          "name": "stdout",
          "text": [
            "Best parameter(s): {'C': 100}\n",
            "Training set score: 0.862\n",
            "Test set score: 0.853\n",
            "Cross validation score: 0.859\n"
          ]
        }
      ]
    },
    {
      "cell_type": "code",
      "source": [
        "param_grid = {'n_estimators': [100, 200, 300, 500, 800, 1000]}\n",
        "\n",
        "grid_search = GridSearchCV(BaggingClassifier(), param_grid=param_grid, cv=5)\n",
        "grid_search.fit(X_train, y_train)\n",
        "\n",
        "best_params = grid_search.best_params_\n",
        "print(f\"Best parameter(s): {best_params}\")\n",
        "\n",
        "best_bag = BaggingClassifier(n_estimators=best_params['n_estimators'])\n",
        "best_bag.fit(X_train, y_train)\n",
        "\n",
        "print(\"Training set score: {:.3f}\".format(best_bag.score(X_train, y_train)))\n",
        "print(\"Test set score: {:.3f}\".format(best_bag.score(X_test, y_test)))\n",
        "print(\"Cross validation score: {:.3f}\".format(cross_val_score(best_bag, X_train, y_train, cv=kfold).mean()))"
      ],
      "metadata": {
        "colab": {
          "base_uri": "https://localhost:8080/"
        },
        "id": "FLzuOST3ig4s",
        "outputId": "5caae443-b1cc-439d-eb2c-fda486cf9bc7"
      },
      "execution_count": null,
      "outputs": [
        {
          "output_type": "stream",
          "name": "stdout",
          "text": [
            "Best parameter(s): {'n_estimators': 500}\n",
            "Training set score: 0.992\n",
            "Test set score: 0.912\n",
            "Cross validation score: 0.914\n"
          ]
        }
      ]
    },
    {
      "cell_type": "code",
      "source": [
        "scaler = StandardScaler()\n",
        "X_train_scaled = scaler.fit_transform(X_train)\n",
        "X_test_scaled = scaler.transform(X_test)\n",
        "\n",
        "param_grid = {'n_neighbors': [1,3,5,7,9,10,11,13] }\n",
        "\n",
        "grid_search = GridSearchCV(KNeighborsClassifier(), param_grid=param_grid, cv=5)\n",
        "grid_search.fit(X_train_scaled, y_train)\n",
        "\n",
        "best_params = grid_search.best_params_\n",
        "print(f\"Best parameter(s): {best_params}\")\n",
        "\n",
        "best_knc = KNeighborsClassifier(n_neighbors=best_params['n_neighbors'])\n",
        "best_knc.fit(X_train_scaled, y_train)\n",
        "\n",
        "print(\"Training set score: {:.3f}\".format(best_knc.score(X_train_scaled, y_train)))\n",
        "print(\"Test set score: {:.3f}\".format(best_knc.score(X_test_scaled, y_test)))\n",
        "print(\"Cross validation score: {:.3f}\".format(cross_val_score(best_knc, X_train_scaled, y_train, cv=kfold).mean()))"
      ],
      "metadata": {
        "colab": {
          "base_uri": "https://localhost:8080/"
        },
        "id": "gUDwZ16jig_f",
        "outputId": "427d2692-b807-4017-9098-136631b1b1b3"
      },
      "execution_count": null,
      "outputs": [
        {
          "output_type": "stream",
          "name": "stdout",
          "text": [
            "Best parameter(s): {'n_neighbors': 13}\n",
            "Training set score: 0.906\n",
            "Test set score: 0.879\n",
            "Cross validation score: 0.900\n"
          ]
        }
      ]
    },
    {
      "cell_type": "markdown",
      "source": [
        "I choose Random Forests as my final model because it has the highest test set score (0.918) and cross validation score (0.915) among four models, but bagging is also a great choice with a test set score of 0.912 and a cross validation score of 0.914."
      ],
      "metadata": {
        "id": "21Hsw7DZQAgO"
      }
    },
    {
      "cell_type": "markdown",
      "source": [
        "14. What variable that currently is not in your model, if included, would be likely to increase your final model's predictive power?  For this answer try to speculate about a variable outside the variables available in the data that would improve you model."
      ],
      "metadata": {
        "id": "Tw7Wa5U78WL2"
      }
    },
    {
      "cell_type": "markdown",
      "source": [
        "I think if the variable \"word_freq_now:\" exists, it can increase my final model's predictive power, because spam emails tend to appeal receivers to take action as soon as possible, and the word \"now\" is highly possible to be used for this reason in spam emails."
      ],
      "metadata": {
        "id": "0klbRXWz860o"
      }
    },
    {
      "cell_type": "markdown",
      "source": [
        "15. Lastly, you have listed each of the models that we have learned to use to predict dependent variables like spam.  List each model we have focused on in class thus far that you could use to evaluate data with a continuous dependent variable."
      ],
      "metadata": {
        "id": "qjRZKULa8YQO"
      }
    },
    {
      "cell_type": "markdown",
      "source": [
        "1. Linear Regression (OLS)\n",
        "2. KNN for Regression\n",
        "3. Support Vector Machines (SVMs)\n",
        "4. Lasso Regression\n",
        "5. Ridge Regression\n",
        "6. Decision Trees\n",
        "7. Bagging\n",
        "8. Random Forests\n",
        "9. Gradient Boosting"
      ],
      "metadata": {
        "id": "7whh_x418hVw"
      }
    }
  ]
}